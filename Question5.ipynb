{
 "cells": [
  {
   "cell_type": "code",
   "execution_count": 2,
   "id": "cee93e04",
   "metadata": {},
   "outputs": [],
   "source": [
    "import numpy as np\n",
    "import matplotlib.pyplot as plt\n",
    "import pandas as pd\n",
    "from sklearn.decomposition import PCA"
   ]
  },
  {
   "cell_type": "markdown",
   "id": "38220542",
   "metadata": {},
   "source": [
    "# Loading Data"
   ]
  },
  {
   "cell_type": "code",
   "execution_count": 41,
   "id": "a1dfefdc",
   "metadata": {},
   "outputs": [
    {
     "name": "stdout",
     "output_type": "stream",
     "text": [
      "(1607, 5)\n",
      "(1607, 3)\n"
     ]
    }
   ],
   "source": [
    "x = pd.read_csv('./Sensor-logger-dataset/Accel-x-10.2s.csv')\n",
    "y = pd.read_csv('./Sensor-logger-dataset/accel-y-10.5s.csv')\n",
    "z = pd.read_csv('./Sensor-logger-dataset/accel-z-11.2s.csv')\n",
    "x\n",
    "frames = [x, y, z]\n",
    "#combine 3 different frames into 1 frame\n",
    "frames = pd.concat(frames)\n",
    "print(frames.shape)\n",
    "frame_dropped = frames.drop(['time', 'seconds_elapsed'], axis=1)\n",
    "print(frame_dropped.shape)\n",
    "data = frame_dropped.to_numpy()"
   ]
  },
  {
   "cell_type": "markdown",
   "id": "1c78476d",
   "metadata": {},
   "source": []
  },
  {
   "cell_type": "markdown",
   "id": "60558191",
   "metadata": {},
   "source": [
    "# Approach\n",
    "<b>1. specify K</b>\n",
    "\n",
    "<b>2. randomly initialize k centroids</b>\n",
    "\n",
    "<b>3. perform iteration until centroid is not changed</b>\n",
    "\n",
    "    a. calculate The distance from each point to each centroid\n",
    "    b. points are assigned to their nearest centroid.\n",
    "    c. update centroid by computing mean in each cluster\n",
    "\n"
   ]
  },
  {
   "cell_type": "markdown",
   "id": "43a3e967",
   "metadata": {},
   "source": [
    "# define distnace function"
   ]
  },
  {
   "cell_type": "code",
   "execution_count": 40,
   "id": "3e39c17e",
   "metadata": {},
   "outputs": [],
   "source": [
    "from scipy.spatial.distance import cdist\n",
    "\n",
    "class K_Means:\n",
    "    \n",
    "    def __init__(self, k=3, tolerance = 0.001, max_iter = 500):\n",
    "        self.k = k\n",
    "        self.max_iterations = max_iter\n",
    "        self.tolerance = tolerance\n",
    "    \n",
    "    #distance function\n",
    "    def euclidean_distance(self, point1, point2):\n",
    "        return np.linalg.norm(point1-point2, axis=0)\n",
    "        \n",
    "#     def predict(self,data):\n",
    "#         distances = [np.linalg.norm(data-self.centroids[centroid]) for centroid in self.centroids]\n",
    "#         classification = distances.index(min(distances))\n",
    "#         return classification\n",
    "    \n",
    "    def fit(self, data):\n",
    "        self.dict_centroid_point = {}\n",
    "        for i in range(self.k): \n",
    "            self.dict_centroid_point[i] = data[i] #data[0], data[1], data[2] are assgined as centroids\n",
    "            #{0:data[0], 1:data[1], 2:data[2]}\n",
    "        \n",
    "        for i in range(self.max_iterations):\n",
    "            self.dict_class_points = {} \n",
    "            for j in range(self.k):\n",
    "                self.dict_class_points[j] = []\n",
    "                #{0:[], 1:[], 2:[]}\n",
    "                #{label_0: [pint0, point1..], label_1:[points..]}\n",
    "                \n",
    "            for point in data:\n",
    "                distances = []\n",
    "                for index in self.dict_centroid_point:\n",
    "                    #compare each point with centroid\n",
    "                    distances.append(self.euclidean_distance(point,self.dict_centroid_point[index]))\n",
    "                #append points to my_dict dic values; the point has the cloasest distance to a centroid\n",
    "                cluster_index = np.argmin(distances)\n",
    "                self.dict_class_points[cluster_index].append(point) # my_dict = {0:[], 1:[], 2:[]}\n",
    "                # print(self.my_dict)\n",
    "            \n",
    "            previous = dict(self.dict_centroid_point) #dict or without dict\n",
    "            \n",
    "            #update centroid with avg value\n",
    "            for cluster_index in self.dict_class_points:\n",
    "                self.dict_centroid_point[cluster_index] = np.average(self.dict_class_points[cluster_index], axis = 0)\n",
    "                # print(self.dict_centroid_point[cluster_index])\n",
    "\n",
    "                \n",
    "            isOptimal = True\n",
    "            \n",
    "            for centroid in self.dict_centroid_point:\n",
    "                prev = previous[centroid]\n",
    "                curr = self.dict_centroid_point[centroid]\n",
    "                #curr - prev =\n",
    "                if np.sum((curr - prev)/prev * 100.0) > self.tolerance: #curr - prev = [ctr0, ctr1, ctr2]\n",
    "                    isOptimal = False\n",
    "            if isOptimal:\n",
    "                break"
   ]
  },
  {
   "cell_type": "code",
   "execution_count": 44,
   "id": "bd7e12f2",
   "metadata": {},
   "outputs": [
    {
     "name": "stdout",
     "output_type": "stream",
     "text": [
      "(1607, 2)\n"
     ]
    },
    {
     "data": {
      "image/png": "[encoded data removed]",
      "text/plain": [
       "<Figure size 640x480 with 1 Axes>"
      ]
     },
     "metadata": {},
     "output_type": "display_data"
    }
   ],
   "source": [
    "\n",
    "k_means = K_Means(3)\n",
    "pca = PCA(n_components=2)\n",
    "data_projected = pca.fit_transform(data)\n",
    "k_means.fit(data_projected)\n",
    "\n",
    "# pca = PCA(n_components=2)\n",
    "# data_projected = pca.fit_transform(data)\n",
    "print(data_projected.shape)\n",
    "\n",
    "colors = 10*[\"r\", \"g\", \"c\", \"b\", \"k\"]\n",
    "\n",
    "for centroid in k_means.dict_centroid_point:\n",
    "    plt.scatter(k_means.dict_centroid_point[centroid][0], k_means.dict_centroid_point[centroid][1], s = 130, marker = \"x\")\n",
    "\n",
    "# for cluster_index in k_means.dict_class_points:\n",
    "#     color = colors[cluster_index]\n",
    "#     for features in k_means.dict_class_points[cluster_index]:\n",
    "#         plt.scatter(features[0], features[1], color = color,s = 30)\n",
    "\n"
   ]
  }
 ],
 "metadata": {
  "kernelspec": {
   "display_name": "env4iot",
   "language": "python",
   "name": "env4iot"
  },
  "language_info": {
   "codemirror_mode": {
    "name": "ipython",
    "version": 3
   },
   "file_extension": ".py",
   "mimetype": "text/x-python",
   "name": "python",
   "nbconvert_exporter": "python",
   "pygments_lexer": "ipython3",
   "version": "3.10.4"
  }
 },
 "nbformat": 4,
 "nbformat_minor": 5
}
